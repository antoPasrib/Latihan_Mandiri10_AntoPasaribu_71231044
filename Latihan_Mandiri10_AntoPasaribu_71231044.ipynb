{
 "cells": [
  {
   "cell_type": "code",
   "execution_count": null,
   "id": "83f2a98c",
   "metadata": {},
   "outputs": [],
   "source": [
    "dictionary = {1: 10, 2: 20, 3: 30, 4: 40, 5: 50, 6: 60}\n",
    "\n",
    "key = list(dictionary.keys())\n",
    "val = list(dictionary.values())\n",
    "a = 1\n",
    "\n",
    "print(\"Key\", \"Value\", \"Item\")\n",
    "for i in range(0, len(dictionary)):\n",
    "    print(key[i], \" \", val[i], \" \", a)\n",
    "    a = a + 1"
   ]
  },
  {
   "cell_type": "code",
   "execution_count": null,
   "id": "b88e3060",
   "metadata": {},
   "outputs": [],
   "source": [
    "list1 = ['red', 'green', 'blue']\n",
    "list2 = ['#FF0000', '#008000', '#0000FF']\n",
    "\n",
    "x = dict()\n",
    "for i in range(len(list1)):\n",
    "    x[list1[i]] = list2[i]\n",
    "    \n",
    "print(x)"
   ]
  },
  {
   "cell_type": "code",
   "execution_count": null,
   "id": "403b1394",
   "metadata": {},
   "outputs": [],
   "source": []
  }
 ],
 "metadata": {
  "kernelspec": {
   "display_name": "Python 3 (ipykernel)",
   "language": "python",
   "name": "python3"
  },
  "language_info": {
   "codemirror_mode": {
    "name": "ipython",
    "version": 3
   },
   "file_extension": ".py",
   "mimetype": "text/x-python",
   "name": "python",
   "nbconvert_exporter": "python",
   "pygments_lexer": "ipython3",
   "version": "3.11.5"
  }
 },
 "nbformat": 4,
 "nbformat_minor": 5
}
